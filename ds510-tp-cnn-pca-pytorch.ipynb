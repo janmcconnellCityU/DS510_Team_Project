{
 "cells": [
  {
   "cell_type": "markdown",
   "id": "9f211162",
   "metadata": {},
   "source": [
    "## **Image Classification of Animals Using CNNs and PCA**\n",
    "#### `Dawit Hailu`, `Geraldine Marten-Ellis`, `Jan McConnell`, `Aaron J. Smith`\n",
    "**DS510 Team Project** `Summer 2025`"
   ]
  },
  {
   "cell_type": "markdown",
   "id": "123c0f73",
   "metadata": {},
   "source": [
    "### **Introduction**\n"
   ]
  },
  {
   "cell_type": "markdown",
   "id": "abfe1bbe",
   "metadata": {},
   "source": [
    "> This project looks at how well Convolutional Neural Networks (CNNs) can classify images of animals and examines whether applying Principal Component Analysis (PCA) improves the results, using a small selection from the High-Resolution Cat-Dog-Bird Image Dataset, with 150 grayscale images in total, divided evenly between cats, dogs, and birds. Our goal is to compare classification accuracy, training time, and loss between models trained on raw images and those preprocessed with PCA. The project highlights how dimensionality reduction can influence both efficiency and generalization in small-scale image classification tasks. Performance metrics and visualizations, including confusion matrices and loss curves will support findings."
   ]
  },
  {
   "cell_type": "markdown",
   "id": "af2de90e",
   "metadata": {},
   "source": [
    "*Setup and Imports*"
   ]
  },
  {
   "cell_type": "code",
   "execution_count": 1,
   "id": "00ada774",
   "metadata": {},
   "outputs": [],
   "source": [
    "# !pip install torch torchvision install tensorflow opencv-python pandas matplotlib scikit-learn\n",
    "# !pip cache purge\n",
    "# !python -m pip install numpy==1.26.4\n"
   ]
  },
  {
   "cell_type": "code",
   "execution_count": 2,
   "id": "4527fa36",
   "metadata": {},
   "outputs": [],
   "source": [
    "import os\n",
    "import re\n",
    "import cv2\n",
    "import json\n",
    "import glob\n",
    "import torch\n",
    "import numpy as np\n",
    "import pandas as pd\n",
    "import torch.nn as nn\n",
    "from tqdm import tqdm\n",
    "import torch.optim as optim\n",
    "import torch.nn.functional as F\n",
    "import matplotlib.pyplot as plt\n",
    "from tensorflow.keras import layers\n",
    "from sklearn.decomposition import PCA\n",
    "from sklearn.model_selection import train_test_split\n",
    "from torch.utils.data import DataLoader, TensorDataset"
   ]
  },
  {
   "cell_type": "markdown",
   "id": "491da006",
   "metadata": {},
   "source": [
    "## 1 **CNN Solution**"
   ]
  },
  {
   "cell_type": "markdown",
   "id": "66b21a73",
   "metadata": {},
   "source": [
    "#### 1.1 **Load and Preprocess Dataset**"
   ]
  },
  {
   "cell_type": "markdown",
   "id": "b9809958",
   "metadata": {},
   "source": [
    "This class handles reading downloaded CSV datasets, `normalizing` and `reshaping` the image data, `splitting` into training, validation, and test sets, and preparing PyTorch `DataLoader` objects for use in model training class workflows. It also manages label remapping and provides access to data splits, tensors, and class mappings."
   ]
  },
  {
   "cell_type": "code",
   "execution_count": 3,
   "id": "6258a89a",
   "metadata": {},
   "outputs": [],
   "source": [
    "class DataModule:\n",
    "    def __init__(self, data_dir='./dataset', dataset_dir='animal-classification-150', im_dim_target=280, batch_size=16, test_size=0.2, random_state=42, save_dataset=False):\n",
    "        self.data_dir=data_dir\n",
    "        self.batch_size=batch_size\n",
    "        self.test_size=test_size\n",
    "        self.dataset_dir=dataset_dir\n",
    "        self.random_state=random_state\n",
    "        self.train_loader=None\n",
    "        self.val_loader=None\n",
    "        self.test_loader=None\n",
    "        self.class_map=None\n",
    "        self.im_dim_target=im_dim_target  # Target image size for resizing\n",
    "        self.save_dataset=save_dataset\n",
    "        \n",
    "        # training data\n",
    "        self.x_train=None\n",
    "        self.y_train=None\n",
    "        self.x_test=None\n",
    "        self.y_test=None\n",
    "        self.x_val=None\n",
    "        self.y_val=None\n",
    "        #training tensors\n",
    "        self.x_train_tensor=None\n",
    "        self.y_train_tensor=None\n",
    "        self.x_test_tensor=None\n",
    "        self.y_test_tensor=None\n",
    "        self.x_val_tensor=None\n",
    "        self.y_val_tensor=None\n",
    "\n",
    "        self._set_data()\n",
    "        self._preprocess()\n",
    "        \n",
    "    def _set_data(self):\n",
    "        # Resize images to self.im_dim_target\n",
    "        if not os.path.exists(self.data_dir):\n",
    "            raise FileNotFoundError(f\"Data directory {self.data_dir} does not exist. Please check the path.\")\n",
    "        \n",
    "        # check if preprocessed data already exists\n",
    "        csv_target = f\"{self.dataset_dir}/mnist-animals.csv\"\n",
    "        data = []\n",
    "        \n",
    "        if not os.path.exists(csv_target):\n",
    "            # create dataset directory if it does not exis\n",
    "            if not os.path.exists(self.dataset_dir):\n",
    "                if(self.save_dataset): os.makedirs(self.dataset_dir) \n",
    "            # This loop assumes the images are categorized in subdirectories\n",
    "                # e.g., data_dir/cat, data_dir/dog, data_dir/bird\n",
    "            for subdir in os.listdir(self.data_dir):\n",
    "                subdir_path = os.path.join(self.data_dir, subdir)\n",
    "                for file in os.listdir(subdir_path):\n",
    "                    if file.endswith('.png') or file.endswith('.jpg'):\n",
    "                        file_path = os.path.join(subdir_path, file)\n",
    "                        \n",
    "                        # Here we resize the image to self.im_dim_targetxself.im_dim_target and append it to csv\n",
    "                        im = cv2.imread(file_path)\n",
    "                        if im.shape[0] != self.im_dim_target and im.shape[1] != self.im_dim_target:\n",
    "                            gray_im = cv2.cvtColor(im, cv2.COLOR_BGR2GRAY)\n",
    "                            resized_image = cv2.resize(gray_im, (self.im_dim_target,self.im_dim_target)).flatten()\n",
    "                            # add image class to the resized image\n",
    "                            class_name = [subdir]\n",
    "                            row = class_name + resized_image.tolist()\n",
    "                            data = data + [row]\n",
    "            df = pd.DataFrame(data, columns=(['class'] + [f'pixel_{i}' for i in range(self.im_dim_target * self.im_dim_target)]))\n",
    "            print(f\"Preprocessing complete. Data shape: {df.shape}\")\n",
    "            if(self.save_dataset):\n",
    "                \n",
    "                df.to_csv(csv_target, index=False) \n",
    "                        \n",
    "                print(f\"CSV file saved to {csv_target}\")\n",
    "            \n",
    "        else:\n",
    "            print(f\"CSV files already exist in {self.data_dir}/{self.data_dir}. Skipping preprocessing step.\")                  \n",
    "            # Now we can read the csv file and split it into train and test sets\n",
    "            df = pd.read_csv(csv_target)\n",
    "            \n",
    "        self.class_map = {i: label for i, label in enumerate(df['class'].unique())}\n",
    "        X= df.drop(columns=['class']).values\n",
    "        y = df['class'].apply(lambda x: list(self.class_map.keys())[list(self.class_map.values()).index(x)]).values\n",
    "        self.x_train, self.x_test, self.y_train, self.y_test = train_test_split(X, y, test_size=self.test_size, random_state=self.random_state)\n",
    "        \n",
    "    def _preprocess(self):\n",
    "        # Split the training set into train/validation\n",
    "        x_train, x_val, y_train, y_val = train_test_split(\n",
    "            self.x_train, self.y_train, test_size=self.test_size, random_state=self.random_state, stratify=self.y_train, shuffle=True\n",
    "        )\n",
    "\n",
    "        # Normalize\n",
    "        x_train = x_train.astype('float32') / 255.0\n",
    "        x_val = x_val.astype('float32') / 255.0\n",
    "        x_test = self.x_test.astype('float32') / 255.0\n",
    "        y_test = self.y_test\n",
    "\n",
    "        # Reshape to (N, 1, self.im_dim_target, self.im_dim_target)\n",
    "        x_train = x_train.reshape(-1, 1, self.im_dim_target, self.im_dim_target)\n",
    "        x_val = x_val.reshape(-1, 1, self.im_dim_target, self.im_dim_target)\n",
    "        x_test = x_test.reshape(-1, 1, self.im_dim_target, self.im_dim_target)\n",
    "        \n",
    "        self.x_train, self.y_train, self.x_test, self.y_test, self.x_val, self.y_val = (\n",
    "            x_train, y_train, x_test, y_test, x_val, y_val\n",
    "        )\n",
    "\n",
    "        # Convert to tensors\n",
    "        self.x_train_tensor = torch.from_numpy(self.x_train)\n",
    "        self.y_train_tensor = torch.from_numpy(self.y_train).long()\n",
    "        self.x_val_tensor = torch.from_numpy(self.x_val)\n",
    "        self.y_val_tensor = torch.from_numpy(self.y_val).long()\n",
    "        self.x_test_tensor = torch.from_numpy(self.x_test)\n",
    "        self.y_test_tensor = torch.from_numpy(self.y_test).long()\n",
    "\n",
    "        # Make TensorDatasets and DataLoaders\n",
    "        train_dataset = TensorDataset(self.x_train_tensor, self.y_train_tensor)\n",
    "        val_dataset = TensorDataset(self.x_val_tensor, self.y_val_tensor)\n",
    "        test_dataset = TensorDataset(self.x_test_tensor, self.y_test_tensor)\n",
    "\n",
    "        self.train_loader = DataLoader(train_dataset, batch_size=self.batch_size, shuffle=True)\n",
    "        self.val_loader = DataLoader(val_dataset, batch_size=self.batch_size)\n",
    "        self.test_loader = DataLoader(test_dataset, batch_size=self.batch_size)\n",
    "        \n",
    "    def get_class_map(self):\n",
    "        return self.class_map\n",
    "    def get_train_tensors(self):\n",
    "        return self.x_train_tensor, self.y_train_tensor, self.x_test_tensor, self.y_test_tensor, self.x_val_tensor, self.y_val_tensor\n",
    "    def get_train_data(self):\n",
    "        return self.x_train, self.y_train, self.x_test, self.y_test, self.x_val, self.y_val\n",
    "    def get_dataloaders(self):\n",
    "        return self.train_loader, self.val_loader, self.test_loader"
   ]
  },
  {
   "cell_type": "markdown",
   "id": "e74b14e7",
   "metadata": {},
   "source": [
    "### 1.2 Sample data"
   ]
  },
  {
   "cell_type": "code",
   "execution_count": 4,
   "id": "e3bf2918",
   "metadata": {},
   "outputs": [
    {
     "name": "stdout",
     "output_type": "stream",
     "text": [
      "Preprocessing complete. Data shape: (150, 4097)\n",
      "Train loader: 12 batches, Val loader: 3 batches, Test loader: 4 batches\n",
      "Train data shape: (96, 1, 64, 64), Train labels shape: (96,)\n",
      "Test data shape: (30, 1, 64, 64), Test labels shape: (30,)\n",
      "Validation data shape: (24, 1, 64, 64), Validation labels shape: (24,)\n",
      "Train tensors shape: torch.Size([96, 1, 64, 64]), Train labels shape: torch.Size([96])\n",
      "Test tensors shape: torch.Size([30, 1, 64, 64]), Test labels shape: torch.Size([30])\n",
      "Validation tensors shape: torch.Size([24, 1, 64, 64]), Validation labels shape: torch.Size([24])\n",
      "Class map: {0: 'bird', 1: 'cat', 2: 'dog'}\n"
     ]
    },
    {
     "data": {
      "image/png": "[encoded data removed]",
      "text/plain": [
       "<Figure size 1500x600 with 10 Axes>"
      ]
     },
     "metadata": {},
     "output_type": "display_data"
    }
   ],
   "source": [
    "def print_data_summary(data_obj=None):\n",
    "    # Initialize and use the data module\n",
    "    if data_obj is None:\n",
    "        data_module = DataModule(im_dim_target=64, batch_size=8)\n",
    "    else:\n",
    "        data_module = data_obj\n",
    "    train_loader, val_loader, test_loader = data_module.get_dataloaders()\n",
    "    print(f\"Train loader: {len(train_loader)} batches, Val loader: {len(val_loader)} batches, Test loader: {len(test_loader)} batches\")\n",
    "    # get training data\n",
    "    x_train, y_train, x_test, y_test, x_val, y_val = data_module.get_train_data()\n",
    "    print(f\"Train data shape: {x_train.shape}, Train labels shape: {y_train.shape}\")\n",
    "    print(f\"Test data shape: {x_test.shape}, Test labels shape: {y_test.shape}\")\n",
    "    print(f\"Validation data shape: {x_val.shape}, Validation labels shape: {y_val.shape}\")\n",
    "    # get training tensors\n",
    "    x_train_tensor, y_train_tensor, x_test_tensor, y_test_tensor, x_val_tensor, y_val_tensor = data_module.get_train_tensors()\n",
    "    print(f\"Train tensors shape: {x_train_tensor.shape}, Train labels shape: {y_train_tensor.shape}\")\n",
    "    print(f\"Test tensors shape: {x_test_tensor.shape}, Test labels shape: {y_test_tensor.shape}\")\n",
    "    print(f\"Validation tensors shape: {x_val_tensor.shape}, Validation labels shape: {y_val_tensor.shape}\")\n",
    "    classifications = data_module.get_class_map()\n",
    "    print(f\"Class map: {classifications}\")\n",
    "    # Display some sample images\n",
    "    plt.figure(figsize=(15, 6))\n",
    "    for i in range(10):\n",
    "        plt.subplot(2, 5, i+1)\n",
    "        plt.imshow(x_train[i, 0], cmap='gray')\n",
    "        plt.title(f\"Label: {classifications[y_train[i]]}\")\n",
    "        plt.axis('off')\n",
    "    plt.tight_layout()\n",
    "    plt.show()\n",
    "print_data_summary()  "
   ]
  },
  {
   "cell_type": "markdown",
   "id": "94523cfe",
   "metadata": {},
   "source": [
    "### 1.3 **Model Configuration and Training**\n",
    "\n",
    "In this section we will configure and train the Model"
   ]
  },
  {
   "cell_type": "markdown",
   "id": "3b541551",
   "metadata": {},
   "source": [
    "#### 1.3.1 **Model Configuration**\n",
    "The model consists of three **convolutional layers** with **batch normalization**, **dropout**, and **max pooling** ,  \n",
    "followed by two **fully connected** layers. The class also includes a convenient **predict** method \n",
    "for inference, which returns both the predicted class indices and class probabilities."
   ]
  },
  {
   "cell_type": "code",
   "execution_count": 5,
   "id": "4f306d8b",
   "metadata": {},
   "outputs": [],
   "source": [
    "class CTNN(nn.Module):\n",
    "    def __init__(self):\n",
    "        super().__init__()\n",
    "        self.conv1 = nn.Conv2d(1, 128, kernel_size=3, padding=1)\n",
    "        self.conv2a = nn.Conv2d(128, 256, kernel_size=3, padding=1)\n",
    "        self.conv2b = nn.Conv2d(256, 512, kernel_size=3, padding=1)\n",
    "        self.conv3 = nn.Conv2d(512, 1024, kernel_size=3, padding=1)\n",
    "        self.conv4 = nn.Conv2d(1024, 1024, kernel_size=3, padding=1)\n",
    "\n",
    "        self.bn1 = nn.BatchNorm2d(128)\n",
    "        self.bn2 = nn.BatchNorm2d(256)\n",
    "        self.bn3 = nn.BatchNorm2d(512)\n",
    "        self.bn4 = nn.BatchNorm2d(1024)\n",
    "\n",
    "        self.pool = nn.MaxPool2d(2, 2)\n",
    "        self.dropout2d = nn.Dropout2d(0.2)\n",
    "        self.fc1 = nn.Linear(2 * 2 * 1024, 256)\n",
    "        self.dropout = nn.Dropout(0.25)\n",
    "        self.fc2 = nn.Linear(256, 3)\n",
    "\n",
    "    def forward(self, x):\n",
    "        # print(f\"Input: {x.shape}\")\n",
    "        x = self.pool(F.leaky_relu(self.bn1(self.conv1(x)))) # 128,32,32\n",
    "        # print(f\"After conv1: {x.shape}\")\n",
    "        x = self.dropout2d(x)\n",
    "        x = F.leaky_relu(self.bn2(self.conv2a(x)))\n",
    "        # print(f\"After dropout2d: {x.shape}\")\n",
    "        x = self.pool(F.leaky_relu(self.bn3(self.conv2b(x)))) # 256,16,16\n",
    "        # print(f\"After conv2: {x.shape}\")\n",
    "        x = self.dropout2d(x)\n",
    "        x = F.leaky_relu(self.bn4(self.conv3(x)))\n",
    "        # print(f\"After dropout2d: {x.shape}\")\n",
    "        x = self.pool(F.leaky_relu(self.bn4(self.conv4(x)))) # 512,8,8\n",
    "        # print(f\"After conv3: {x.shape}\")\n",
    "        x = self.dropout2d(x)\n",
    "        x = F.leaky_relu(self.bn4(self.conv4(x)))\n",
    "        x = self.pool(F.leaky_relu(self.bn4(self.conv4(x)))) # 512,4,4\n",
    "        # print(f\"After conv4: {x.shape}\")\n",
    "        x = self.dropout2d(x)\n",
    "        x = F.leaky_relu(self.bn4(self.conv4(x)))\n",
    "        # print(f\"After dropout2d: {x.shape}\")\n",
    "        x = self.pool(F.leaky_relu(self.bn4(self.conv4(x)))) # 512,2,2\n",
    "        # print(f\"After conv5: {x.shape}\")\n",
    "        x = self.dropout2d(x)\n",
    "        x = F.leaky_relu(self.bn4(self.conv4(x)))\n",
    "        # print(f\"After dropout2d: {x.shape}\")\n",
    "        x = x.view(x.size(0), -1)\n",
    "        # print(f\"After flattening: {x.shape}\")\n",
    "        # x = torch.pca_lowrank(x, q=32, center=True)[0]  # Apply PCA to reduce dimensionality \n",
    "        x = self.dropout(F.leaky_relu(self.fc1(x)))\n",
    "        # print(f\"After dropout and fc1: {x.shape}\")\n",
    "        x = self.fc2(x)\n",
    "        return x\n",
    "\n",
    "    def predict(self, x, device=None):\n",
    "        \n",
    "        self.eval()\n",
    "        if device is not None:\n",
    "            self.to(device)\n",
    "            x = x.to(device)\n",
    "        with torch.no_grad():\n",
    "            if x.dim() == 3:\n",
    "                x = x.unsqueeze(0)  # Make batch dimension\n",
    "            outputs = self.forward(x)\n",
    "            probs = F.softmax(outputs, dim=1)\n",
    "            preds = torch.argmax(probs, dim=1)\n",
    "        return preds, probs.cpu().numpy()"
   ]
  },
  {
   "cell_type": "markdown",
   "id": "f160627b",
   "metadata": {},
   "source": [
    "#### 1.3.2 **Model Training**"
   ]
  },
  {
   "cell_type": "markdown",
   "id": "57fd2e33",
   "metadata": {},
   "source": [
    "##### 1.3.2.1 **CTNNTrainer Module**\n",
    "**CTNNTrainer** is a utility class for training, evaluating, saving, and loading project models using **PyTorch**. It manages the entire model training lifecycle, including **optimizer** and **scheduler** setup, hyperparameter management, model **versioning**, and **checkpointing**. The class also tracks metrics during training and validation, supports reusing existing models with identical training parameters, and saves comprehensive training metrics for later analysis."
   ]
  },
  {
   "cell_type": "code",
   "execution_count": 6,
   "id": "3a318207",
   "metadata": {},
   "outputs": [
    {
     "name": "stdout",
     "output_type": "stream",
     "text": [
      "cuda\n"
     ]
    }
   ],
   "source": [
    "\n",
    "# !pip install torch==2.3.1+cu121 torchvision==0.18.1+cu121 -f https://download.pytorch.org/whl/torch_stable.html\n",
    "print(torch.device(\"cuda\") if torch.cuda.is_available() else torch.device(\"cpu\"))"
   ]
  },
  {
   "cell_type": "code",
   "execution_count": 7,
   "id": "2674e41c",
   "metadata": {},
   "outputs": [],
   "source": [
    "class CTNNTrainer:\n",
    "    def __init__(self, model, model_dir=\"./models\", model_prefix=\"best_model\",\n",
    "                        params=None, device=None, lr=0.001, weight_decay=1e-4):\n",
    "        self.model = model\n",
    "        self.device = device or (torch.device(\"cuda\") if torch.cuda.is_available() else torch.device(\"cpu\"))\n",
    "        self.model.to(self.device)\n",
    "        self.criterion = nn.CrossEntropyLoss()\n",
    "        self.optimizer = optim.Adam(self.model.parameters(), weight_decay=weight_decay, lr=lr)\n",
    "        self.scheduler = optim.lr_scheduler.ReduceLROnPlateau(self.optimizer, mode='min', factor=0.1, patience=5)\n",
    "        self.model_dir = model_dir\n",
    "        os.makedirs(self.model_dir, exist_ok=True)\n",
    "        self.model_prefix = model_prefix\n",
    "\n",
    "        # Save current training parameters (add anything else relevant as needed!)\n",
    "        self.train_params = params or {\"lr\": lr, \"weight_decay\": weight_decay}\n",
    "        # Use these for filename versioning\n",
    "        self.version = self._next_model_version()\n",
    "        self.base_filename = f\"{self.model_prefix}_v{self.version}\"\n",
    "\n",
    "        self.best_model_path = os.path.join(self.model_dir, f\"{self.base_filename}.pth\")\n",
    "        self.params_path = self.best_model_path + \".params.json\"\n",
    "        self.metrics_path = os.path.join(self.model_dir, f\"training_metrics_{self.version}.csv\")\n",
    "        self.metrics_history = {\n",
    "            'epoch': [],\n",
    "            'train_loss': [],\n",
    "            'train_acc': [],\n",
    "            'val_loss': [],\n",
    "            'val_acc': []\n",
    "        }\n",
    "\n",
    "    def _next_model_version(self):\n",
    "        # Look for all models with this prefix\n",
    "        files = glob.glob(os.path.join(self.model_dir, f\"{self.model_prefix}_v*.pth\"))\n",
    "        versions = []\n",
    "        pat = re.compile(rf\"{re.escape(self.model_prefix)}_v(\\d+)\\.(\\d+)\\.pth$\")\n",
    "        for f in files:\n",
    "            m = pat.search(os.path.basename(f))\n",
    "            if m:\n",
    "                versions.append((int(m.group(1)), int(m.group(2))))\n",
    "        if not versions:\n",
    "            return \"1.0\"\n",
    "        versions.sort()\n",
    "        latest_major, latest_minor = versions[-1]\n",
    "        return f\"{latest_major}.{latest_minor + 1}\"\n",
    "\n",
    "    @staticmethod\n",
    "    def calculate_accuracy(model, data_loader, device):\n",
    "        model.eval()\n",
    "        correct = 0\n",
    "        total = 0\n",
    "        with torch.no_grad():\n",
    "            for inputs, labels in data_loader:\n",
    "                inputs, labels = inputs.to(device), labels.to(device)\n",
    "                outputs = model(inputs)\n",
    "                _, predicted = torch.max(outputs.data, 1)\n",
    "                total += labels.size(0)\n",
    "                correct += (predicted == labels).sum().item()\n",
    "        accuracy = 100 * correct / total\n",
    "        return accuracy\n",
    "\n",
    "    def find_matching_model(self):\n",
    "        \"\"\"Checks for an existing model in models/ with matching params. If found, returns (model_path, params_path, metrics_path, version), else None.\"\"\"\n",
    "        files = glob.glob(os.path.join(self.model_dir, f\"{self.model_prefix}_v*.pth\"))\n",
    "        pat = re.compile(rf\"{re.escape(self.model_prefix)}_v(\\d+)\\.(\\d+)\\.pth$\")\n",
    "        for model_path in files:\n",
    "            m = pat.search(os.path.basename(model_path))\n",
    "            if m:\n",
    "                version = f\"{m.group(1)}.{m.group(2)}\"\n",
    "                params_path = model_path + \".params.json\"\n",
    "                if os.path.exists(params_path):\n",
    "                    with open(params_path, 'r') as f:\n",
    "                        params = json.load(f)\n",
    "                    if params == self.train_params:\n",
    "                        metrics_path = os.path.join(self.model_dir, f\"training_metrics_{version}.csv\")\n",
    "                        return model_path, params_path, metrics_path, version\n",
    "        return None\n",
    "\n",
    "    def save_model_and_params(self):\n",
    "        torch.save(self.model.state_dict(), self.best_model_path)\n",
    "        with open(self.params_path, 'w') as f:\n",
    "            json.dump(self.train_params, f)\n",
    "\n",
    "    def load_model(self, model_path):\n",
    "        self.model.load_state_dict(torch.load(model_path, map_location=self.device))\n",
    "        print(f\"\\n[INFO] Loaded pre-trained model from {model_path}\\n\")\n",
    "\n",
    "    def train(self, train_loader, val_loader, num_epochs=20, save_metrics=False, save_model=False):\n",
    "        # Check for a matching model (by hyperparameters)\n",
    "        match = self.find_matching_model()\n",
    "        if match:\n",
    "            model_path, params_path, metrics_path, version = match\n",
    "            self.version = version\n",
    "            self.base_filename = f\"{self.model_prefix}_v{self.version}\"\n",
    "            self.best_model_path = model_path\n",
    "            self.params_path = params_path\n",
    "            self.metrics_path = metrics_path\n",
    "            self.load_model(model_path)\n",
    "            if os.path.isfile(self.metrics_path):\n",
    "                print(f\"[INFO] Found matching training metrics at {self.metrics_path}\")\n",
    "                df = pd.read_csv(self.metrics_path)\n",
    "                print(df)\n",
    "            else:\n",
    "                print(\"[INFO] Metrics summary for this pretrained model not found!\")\n",
    "            return\n",
    "\n",
    "        print(f\"Training new model: saving as version v{self.version}\")\n",
    "\n",
    "        best_val_score = 0.0\n",
    "\n",
    "        for epoch in range(num_epochs):\n",
    "            self.model.train()\n",
    "            running_loss = 0.0\n",
    "            train_pbar = tqdm(train_loader, desc=f'Epoch {epoch+1}/{num_epochs} [Train]')\n",
    "            for inputs, labels in train_pbar:\n",
    "                inputs, labels = inputs.to(self.device), labels.to(self.device)\n",
    "                # print(inputs.shape)\n",
    "                # print(labels.shape)\n",
    "                self.optimizer.zero_grad()\n",
    "                outputs = self.model(inputs)\n",
    "                loss = self.criterion(outputs, labels)\n",
    "                loss.backward()\n",
    "                self.optimizer.step()\n",
    "                running_loss += loss.item() * inputs.size(0)\n",
    "            epoch_train_loss = running_loss / len(train_loader.dataset)\n",
    "            epoch_train_acc = self.calculate_accuracy(self.model, train_loader, self.device)\n",
    "\n",
    "            # Validation\n",
    "            \n",
    "            val_pbar = tqdm(val_loader, desc=f'Epoch {epoch+1}/{num_epochs} [Val]')\n",
    "            self.model.eval()\n",
    "            running_loss = 0.0\n",
    "            with torch.no_grad():\n",
    "                for inputs, labels in val_pbar:\n",
    "                    inputs, labels = inputs.to(self.device), labels.to(self.device)\n",
    "                    outputs = self.model(inputs)\n",
    "                    loss = self.criterion(outputs, labels)\n",
    "                    running_loss += loss.item() * inputs.size(0)\n",
    "            \n",
    "            epoch_val_loss = running_loss / len(val_loader.dataset)\n",
    "            epoch_val_acc = self.calculate_accuracy(self.model, val_loader, self.device)\n",
    "            self.scheduler.step(epoch_val_loss)\n",
    "            print(f\"Epoch {epoch+1}/{num_epochs} - \"\n",
    "                    f\"Train Loss: {epoch_train_loss:.4f}, Train Acc: {epoch_train_acc:.2f}% | \"\n",
    "                    f\"Val Loss: {epoch_val_loss:.4f}, Val Acc: {epoch_val_acc:.2f}%\")\n",
    "            if(save_metrics or save_model):\n",
    "                self.metrics_history['epoch'].append(epoch + 1)\n",
    "                self.metrics_history['train_loss'].append(epoch_train_loss)\n",
    "                self.metrics_history['train_acc'].append(epoch_train_acc)\n",
    "                self.metrics_history['val_loss'].append(epoch_val_loss)\n",
    "                self.metrics_history['val_acc'].append(epoch_val_acc)\n",
    "\n",
    "                epoch_score = round((epoch_val_acc - (epoch_val_loss * 10) - epoch_train_loss), 4)\n",
    "                if(save_model):\n",
    "                    if epoch_score > best_val_score:\n",
    "                        best_val_score = epoch_score\n",
    "                        self.save_model_and_params()\n",
    "                        self.load_model(self.best_model_path)\n",
    "\n",
    "                \n",
    "\n",
    "                # Save summary after training\n",
    "                if(save_metrics):\n",
    "                    self.save_metrics(self.metrics_path)\n",
    "                    print(f\"\\n[INFO] Model and summary saved as: {self.base_filename}\\n\")\n",
    "            \n",
    "\n",
    "    def print_metrics_summary(self):\n",
    "        df = pd.DataFrame(self.metrics_history)\n",
    "        print(\"\\nTraining summary by epoch:\")\n",
    "        print(df.to_string(index=False))\n",
    "\n",
    "    def save_metrics(self, path=None):\n",
    "        df = pd.DataFrame(self.metrics_history)\n",
    "        path = path or self.metrics_path\n",
    "        df.to_csv(path, index=False)\n",
    "        print(f\"Epoch metrics saved to {path}\")"
   ]
  },
  {
   "cell_type": "markdown",
   "id": "fb651b34",
   "metadata": {},
   "source": [
    "##### 1.3.2.2 Model Training"
   ]
  },
  {
   "cell_type": "code",
   "execution_count": 8,
   "id": "fb13ab7b",
   "metadata": {},
   "outputs": [
    {
     "name": "stdout",
     "output_type": "stream",
     "text": [
      "Preprocessing complete. Data shape: (150, 4097)\n",
      "CTNN(\n",
      "  (conv1): Conv2d(1, 128, kernel_size=(3, 3), stride=(1, 1), padding=(1, 1))\n",
      "  (conv2a): Conv2d(128, 256, kernel_size=(3, 3), stride=(1, 1), padding=(1, 1))\n",
      "  (conv2b): Conv2d(256, 512, kernel_size=(3, 3), stride=(1, 1), padding=(1, 1))\n",
      "  (conv3): Conv2d(512, 1024, kernel_size=(3, 3), stride=(1, 1), padding=(1, 1))\n",
      "  (conv4): Conv2d(1024, 1024, kernel_size=(3, 3), stride=(1, 1), padding=(1, 1))\n",
      "  (bn1): BatchNorm2d(128, eps=1e-05, momentum=0.1, affine=True, track_running_stats=True)\n",
      "  (bn2): BatchNorm2d(256, eps=1e-05, momentum=0.1, affine=True, track_running_stats=True)\n",
      "  (bn3): BatchNorm2d(512, eps=1e-05, momentum=0.1, affine=True, track_running_stats=True)\n",
      "  (bn4): BatchNorm2d(1024, eps=1e-05, momentum=0.1, affine=True, track_running_stats=True)\n",
      "  (pool): MaxPool2d(kernel_size=2, stride=2, padding=0, dilation=1, ceil_mode=False)\n",
      "  (dropout2d): Dropout2d(p=0.2, inplace=False)\n",
      "  (fc1): Linear(in_features=4096, out_features=256, bias=True)\n",
      "  (dropout): Dropout(p=0.25, inplace=False)\n",
      "  (fc2): Linear(in_features=256, out_features=3, bias=True)\n",
      ")\n",
      "Training new model: saving as version v1.0\n"
     ]
    },
    {
     "name": "stderr",
     "output_type": "stream",
     "text": [
      "Epoch 1/20 [Train]: 100%|██████████| 20/20 [00:00<00:00, 32.56it/s]\n",
      "Epoch 1/20 [Val]: 100%|██████████| 5/5 [00:00<00:00, 138.89it/s]\n"
     ]
    },
    {
     "name": "stdout",
     "output_type": "stream",
     "text": [
      "Epoch 1/20 - Train Loss: 1.1852, Train Acc: 32.29% | Val Loss: 1.1007, Val Acc: 33.33%\n"
     ]
    },
    {
     "name": "stderr",
     "output_type": "stream",
     "text": [
      "Epoch 2/20 [Train]: 100%|██████████| 20/20 [00:00<00:00, 69.20it/s]\n",
      "Epoch 2/20 [Val]: 100%|██████████| 5/5 [00:00<00:00, 277.80it/s]\n"
     ]
    },
    {
     "name": "stdout",
     "output_type": "stream",
     "text": [
      "Epoch 2/20 - Train Loss: 1.1094, Train Acc: 34.38% | Val Loss: 1.1059, Val Acc: 33.33%\n"
     ]
    },
    {
     "name": "stderr",
     "output_type": "stream",
     "text": [
      "Epoch 3/20 [Train]: 100%|██████████| 20/20 [00:00<00:00, 67.34it/s]\n",
      "Epoch 3/20 [Val]: 100%|██████████| 5/5 [00:00<00:00, 277.76it/s]\n"
     ]
    },
    {
     "name": "stdout",
     "output_type": "stream",
     "text": [
      "Epoch 3/20 - Train Loss: 1.0522, Train Acc: 47.92% | Val Loss: 1.0837, Val Acc: 45.83%\n"
     ]
    },
    {
     "name": "stderr",
     "output_type": "stream",
     "text": [
      "Epoch 4/20 [Train]: 100%|██████████| 20/20 [00:00<00:00, 69.07it/s]\n",
      "Epoch 4/20 [Val]: 100%|██████████| 5/5 [00:00<00:00, 263.17it/s]\n"
     ]
    },
    {
     "name": "stdout",
     "output_type": "stream",
     "text": [
      "Epoch 4/20 - Train Loss: 0.9703, Train Acc: 54.17% | Val Loss: 1.0468, Val Acc: 66.67%\n"
     ]
    },
    {
     "name": "stderr",
     "output_type": "stream",
     "text": [
      "Epoch 5/20 [Train]: 100%|██████████| 20/20 [00:00<00:00, 69.45it/s]\n",
      "Epoch 5/20 [Val]: 100%|██████████| 5/5 [00:00<00:00, 266.22it/s]\n"
     ]
    },
    {
     "name": "stdout",
     "output_type": "stream",
     "text": [
      "Epoch 5/20 - Train Loss: 1.0524, Train Acc: 46.88% | Val Loss: 1.0583, Val Acc: 41.67%\n"
     ]
    },
    {
     "name": "stderr",
     "output_type": "stream",
     "text": [
      "Epoch 6/20 [Train]: 100%|██████████| 20/20 [00:00<00:00, 66.64it/s]\n",
      "Epoch 6/20 [Val]: 100%|██████████| 5/5 [00:00<00:00, 277.78it/s]\n"
     ]
    },
    {
     "name": "stdout",
     "output_type": "stream",
     "text": [
      "Epoch 6/20 - Train Loss: 1.0409, Train Acc: 58.33% | Val Loss: 0.9406, Val Acc: 58.33%\n"
     ]
    },
    {
     "name": "stderr",
     "output_type": "stream",
     "text": [
      "Epoch 7/20 [Train]: 100%|██████████| 20/20 [00:00<00:00, 68.97it/s]\n",
      "Epoch 7/20 [Val]: 100%|██████████| 5/5 [00:00<00:00, 263.21it/s]\n"
     ]
    },
    {
     "name": "stdout",
     "output_type": "stream",
     "text": [
      "Epoch 7/20 - Train Loss: 0.9958, Train Acc: 64.58% | Val Loss: 0.9583, Val Acc: 58.33%\n"
     ]
    },
    {
     "name": "stderr",
     "output_type": "stream",
     "text": [
      "Epoch 8/20 [Train]: 100%|██████████| 20/20 [00:00<00:00, 66.45it/s]\n",
      "Epoch 8/20 [Val]: 100%|██████████| 5/5 [00:00<00:00, 263.16it/s]\n"
     ]
    },
    {
     "name": "stdout",
     "output_type": "stream",
     "text": [
      "Epoch 8/20 - Train Loss: 0.9135, Train Acc: 54.17% | Val Loss: 0.9407, Val Acc: 45.83%\n"
     ]
    },
    {
     "name": "stderr",
     "output_type": "stream",
     "text": [
      "Epoch 9/20 [Train]: 100%|██████████| 20/20 [00:00<00:00, 69.45it/s]\n",
      "Epoch 9/20 [Val]: 100%|██████████| 5/5 [00:00<00:00, 277.78it/s]\n"
     ]
    },
    {
     "name": "stdout",
     "output_type": "stream",
     "text": [
      "Epoch 9/20 - Train Loss: 0.8478, Train Acc: 61.46% | Val Loss: 0.8802, Val Acc: 54.17%\n"
     ]
    },
    {
     "name": "stderr",
     "output_type": "stream",
     "text": [
      "Epoch 10/20 [Train]: 100%|██████████| 20/20 [00:00<00:00, 69.20it/s]\n",
      "Epoch 10/20 [Val]: 100%|██████████| 5/5 [00:00<00:00, 277.79it/s]\n"
     ]
    },
    {
     "name": "stdout",
     "output_type": "stream",
     "text": [
      "Epoch 10/20 - Train Loss: 0.8252, Train Acc: 38.54% | Val Loss: 1.4103, Val Acc: 41.67%\n"
     ]
    },
    {
     "name": "stderr",
     "output_type": "stream",
     "text": [
      "Epoch 11/20 [Train]: 100%|██████████| 20/20 [00:00<00:00, 68.34it/s]\n",
      "Epoch 11/20 [Val]: 100%|██████████| 5/5 [00:00<00:00, 263.18it/s]\n"
     ]
    },
    {
     "name": "stdout",
     "output_type": "stream",
     "text": [
      "Epoch 11/20 - Train Loss: 0.9306, Train Acc: 58.33% | Val Loss: 1.2650, Val Acc: 33.33%\n"
     ]
    },
    {
     "name": "stderr",
     "output_type": "stream",
     "text": [
      "Epoch 12/20 [Train]: 100%|██████████| 20/20 [00:00<00:00, 69.20it/s]\n",
      "Epoch 12/20 [Val]: 100%|██████████| 5/5 [00:00<00:00, 263.15it/s]\n"
     ]
    },
    {
     "name": "stdout",
     "output_type": "stream",
     "text": [
      "Epoch 12/20 - Train Loss: 0.8292, Train Acc: 67.71% | Val Loss: 0.8395, Val Acc: 70.83%\n"
     ]
    },
    {
     "name": "stderr",
     "output_type": "stream",
     "text": [
      "Epoch 13/20 [Train]: 100%|██████████| 20/20 [00:00<00:00, 66.89it/s]\n",
      "Epoch 13/20 [Val]: 100%|██████████| 5/5 [00:00<00:00, 277.78it/s]\n"
     ]
    },
    {
     "name": "stdout",
     "output_type": "stream",
     "text": [
      "Epoch 13/20 - Train Loss: 0.7304, Train Acc: 73.96% | Val Loss: 0.9288, Val Acc: 45.83%\n"
     ]
    },
    {
     "name": "stderr",
     "output_type": "stream",
     "text": [
      "Epoch 14/20 [Train]: 100%|██████████| 20/20 [00:00<00:00, 68.73it/s]\n",
      "Epoch 14/20 [Val]: 100%|██████████| 5/5 [00:00<00:00, 277.77it/s]\n"
     ]
    },
    {
     "name": "stdout",
     "output_type": "stream",
     "text": [
      "Epoch 14/20 - Train Loss: 0.7227, Train Acc: 68.75% | Val Loss: 0.9731, Val Acc: 45.83%\n"
     ]
    },
    {
     "name": "stderr",
     "output_type": "stream",
     "text": [
      "Epoch 15/20 [Train]: 100%|██████████| 20/20 [00:00<00:00, 68.26it/s]\n",
      "Epoch 15/20 [Val]: 100%|██████████| 5/5 [00:00<00:00, 249.99it/s]\n"
     ]
    },
    {
     "name": "stdout",
     "output_type": "stream",
     "text": [
      "Epoch 15/20 - Train Loss: 0.6865, Train Acc: 64.58% | Val Loss: 1.5381, Val Acc: 33.33%\n"
     ]
    },
    {
     "name": "stderr",
     "output_type": "stream",
     "text": [
      "Epoch 16/20 [Train]: 100%|██████████| 20/20 [00:00<00:00, 68.87it/s]\n",
      "Epoch 16/20 [Val]: 100%|██████████| 5/5 [00:00<00:00, 263.16it/s]\n"
     ]
    },
    {
     "name": "stdout",
     "output_type": "stream",
     "text": [
      "Epoch 16/20 - Train Loss: 0.6443, Train Acc: 67.71% | Val Loss: 0.9069, Val Acc: 54.17%\n"
     ]
    },
    {
     "name": "stderr",
     "output_type": "stream",
     "text": [
      "Epoch 17/20 [Train]: 100%|██████████| 20/20 [00:00<00:00, 68.49it/s]\n",
      "Epoch 17/20 [Val]: 100%|██████████| 5/5 [00:00<00:00, 277.79it/s]\n"
     ]
    },
    {
     "name": "stdout",
     "output_type": "stream",
     "text": [
      "Epoch 17/20 - Train Loss: 0.5226, Train Acc: 57.29% | Val Loss: 1.4159, Val Acc: 33.33%\n"
     ]
    },
    {
     "name": "stderr",
     "output_type": "stream",
     "text": [
      "Epoch 18/20 [Train]: 100%|██████████| 20/20 [00:00<00:00, 68.49it/s]\n",
      "Epoch 18/20 [Val]: 100%|██████████| 5/5 [00:00<00:00, 238.12it/s]\n"
     ]
    },
    {
     "name": "stdout",
     "output_type": "stream",
     "text": [
      "Epoch 18/20 - Train Loss: 0.4667, Train Acc: 88.54% | Val Loss: 1.1945, Val Acc: 58.33%\n"
     ]
    },
    {
     "name": "stderr",
     "output_type": "stream",
     "text": [
      "Epoch 19/20 [Train]: 100%|██████████| 20/20 [00:00<00:00, 68.89it/s]\n",
      "Epoch 19/20 [Val]: 100%|██████████| 5/5 [00:00<00:00, 277.79it/s]\n"
     ]
    },
    {
     "name": "stdout",
     "output_type": "stream",
     "text": [
      "Epoch 19/20 - Train Loss: 0.2447, Train Acc: 86.46% | Val Loss: 1.1905, Val Acc: 58.33%\n"
     ]
    },
    {
     "name": "stderr",
     "output_type": "stream",
     "text": [
      "Epoch 20/20 [Train]: 100%|██████████| 20/20 [00:00<00:00, 69.44it/s]\n",
      "Epoch 20/20 [Val]: 100%|██████████| 5/5 [00:00<00:00, 263.18it/s]\n"
     ]
    },
    {
     "name": "stdout",
     "output_type": "stream",
     "text": [
      "Epoch 20/20 - Train Loss: 0.2610, Train Acc: 87.50% | Val Loss: 1.2012, Val Acc: 66.67%\n",
      "\n",
      "Training summary by epoch:\n",
      "Empty DataFrame\n",
      "Columns: [epoch, train_loss, train_acc, val_loss, val_acc]\n",
      "Index: []\n",
      "Epoch metrics saved to ./models\\training_metrics_1.0.csv\n"
     ]
    }
   ],
   "source": [
    "# define hyperparameters\n",
    "learning_rate = 0.0001\n",
    "num_epochs = 20\n",
    "batch_size = 5\n",
    "im_dim_target = 64  # Target image size for resizing\n",
    "\n",
    "# Initialize and use the data module\n",
    "data_module = DataModule(im_dim_target=im_dim_target, batch_size=batch_size)\n",
    "\n",
    "# get training data\n",
    "train_loader, val_loader, test_loader = data_module.get_dataloaders()\n",
    "x_train, y_train, x_test, y_test, x_val, y_val = data_module.get_train_data()\n",
    "# get training tensors\n",
    "x_train_tensor, y_train_tensor, x_test_tensor, y_test_tensor, x_val_tensor, y_val_tensor = data_module.get_train_tensors()\n",
    "classifications = data_module.get_class_map()\n",
    "\n",
    "\n",
    "device = torch.device(\"cuda\" if torch.cuda.is_available() else \"cpu\")\n",
    "model = CTNN().to(device)\n",
    "print(model)\n",
    "device = torch.device(\"cuda\" if torch.cuda.is_available() else \"cpu\")\n",
    "model = CTNN().to(device)\n",
    "# Initialize the trainer with the model and device\n",
    "trainer = CTNNTrainer(model, device=device, lr=learning_rate, weight_decay=0.001)\n",
    "trainer.train(train_loader, val_loader, num_epochs=num_epochs, save_metrics=False, save_model=False)\n",
    "trainer.print_metrics_summary()\n",
    "trainer.save_metrics()"
   ]
  },
  {
   "cell_type": "markdown",
   "id": "ff81e8fc",
   "metadata": {},
   "source": [
    "## 2. **PCA Implementation**"
   ]
  }
 ],
 "metadata": {
  "kernelspec": {
   "display_name": "Python 3",
   "language": "python",
   "name": "python3"
  },
  "language_info": {
   "codemirror_mode": {
    "name": "ipython",
    "version": 3
   },
   "file_extension": ".py",
   "mimetype": "text/x-python",
   "name": "python",
   "nbconvert_exporter": "python",
   "pygments_lexer": "ipython3",
   "version": "3.11.9"
  }
 },
 "nbformat": 4,
 "nbformat_minor": 5
}
