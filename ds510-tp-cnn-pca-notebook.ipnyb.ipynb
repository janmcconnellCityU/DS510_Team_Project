{
 "cells": [
  {
   "cell_type": "markdown",
   "id": "9f211162",
   "metadata": {},
   "source": [
    "## **Image Classification of Animals Using CNNs and PCA**\n",
    "#### `Geraldine Marten-Ellis`, `Dawit Hailu`, `Jan McConnell`, `Aaron J. Smith`\n",
    "**DS510 Team Project** `Summer 2025`"
   ]
  },
  {
   "cell_type": "markdown",
   "id": "123c0f73",
   "metadata": {},
   "source": [
    "### **Introduction**\n"
   ]
  },
  {
   "cell_type": "markdown",
   "id": "abfe1bbe",
   "metadata": {},
   "source": [
    "> This project looks at how well Convolutional Neural Networks (CNNs) can classify images of animals and examines whether applying Principal Component Analysis (PCA) improves the results, using a small selection from the High-Resolution Cat-Dog-Bird Image Dataset, with 150 grayscale images in total, divided evenly between cats, dogs, and birds. Our goal is to compare classification accuracy, training time, and loss between models trained on raw images and those preprocessed with PCA. The project highlights how dimensionality reduction can influence both efficiency and generalization in small-scale image classification tasks. Performance metrics and visualizations, including confusion matrices and loss curves will support findings."
   ]
  },
  {
   "cell_type": "markdown",
   "id": "af2de90e",
   "metadata": {},
   "source": [
    "*Setup and Imports*"
   ]
  },
  {
   "cell_type": "code",
   "execution_count": 81,
   "id": "00ada774",
   "metadata": {},
   "outputs": [
    {
     "name": "stdout",
     "output_type": "stream",
     "text": [
      "Requirement already satisfied: torch in c:\\users\\davuc\\appdata\\local\\packages\\pythonsoftwarefoundation.python.3.11_qbz5n2kfra8p0\\localcache\\local-packages\\python311\\site-packages (2.7.1)\n",
      "Requirement already satisfied: torchvision in c:\\users\\davuc\\appdata\\local\\packages\\pythonsoftwarefoundation.python.3.11_qbz5n2kfra8p0\\localcache\\local-packages\\python311\\site-packages (0.22.1)\n",
      "Requirement already satisfied: matplotlib in c:\\users\\davuc\\appdata\\local\\packages\\pythonsoftwarefoundation.python.3.11_qbz5n2kfra8p0\\localcache\\local-packages\\python311\\site-packages (3.10.3)\n",
      "Requirement already satisfied: scikit-learn in c:\\users\\davuc\\appdata\\local\\packages\\pythonsoftwarefoundation.python.3.11_qbz5n2kfra8p0\\localcache\\local-packages\\python311\\site-packages (1.7.0)\n",
      "Requirement already satisfied: pandas in c:\\users\\davuc\\appdata\\local\\packages\\pythonsoftwarefoundation.python.3.11_qbz5n2kfra8p0\\localcache\\local-packages\\python311\\site-packages (2.3.1)\n",
      "Requirement already satisfied: numpy in c:\\users\\davuc\\appdata\\local\\packages\\pythonsoftwarefoundation.python.3.11_qbz5n2kfra8p0\\localcache\\local-packages\\python311\\site-packages (2.3.1)\n",
      "Requirement already satisfied: filelock in c:\\users\\davuc\\appdata\\local\\packages\\pythonsoftwarefoundation.python.3.11_qbz5n2kfra8p0\\localcache\\local-packages\\python311\\site-packages (from torch) (3.18.0)\n",
      "Requirement already satisfied: typing-extensions>=4.10.0 in c:\\users\\davuc\\appdata\\local\\packages\\pythonsoftwarefoundation.python.3.11_qbz5n2kfra8p0\\localcache\\local-packages\\python311\\site-packages (from torch) (4.14.1)\n",
      "Requirement already satisfied: sympy>=1.13.3 in c:\\users\\davuc\\appdata\\local\\packages\\pythonsoftwarefoundation.python.3.11_qbz5n2kfra8p0\\localcache\\local-packages\\python311\\site-packages (from torch) (1.14.0)\n",
      "Requirement already satisfied: networkx in c:\\users\\davuc\\appdata\\local\\packages\\pythonsoftwarefoundation.python.3.11_qbz5n2kfra8p0\\localcache\\local-packages\\python311\\site-packages (from torch) (3.5)\n",
      "Requirement already satisfied: jinja2 in c:\\users\\davuc\\appdata\\local\\packages\\pythonsoftwarefoundation.python.3.11_qbz5n2kfra8p0\\localcache\\local-packages\\python311\\site-packages (from torch) (3.1.6)\n",
      "Requirement already satisfied: fsspec in c:\\users\\davuc\\appdata\\local\\packages\\pythonsoftwarefoundation.python.3.11_qbz5n2kfra8p0\\localcache\\local-packages\\python311\\site-packages (from torch) (2025.7.0)\n",
      "Requirement already satisfied: pillow!=8.3.*,>=5.3.0 in c:\\users\\davuc\\appdata\\local\\packages\\pythonsoftwarefoundation.python.3.11_qbz5n2kfra8p0\\localcache\\local-packages\\python311\\site-packages (from torchvision) (11.3.0)\n",
      "Requirement already satisfied: contourpy>=1.0.1 in c:\\users\\davuc\\appdata\\local\\packages\\pythonsoftwarefoundation.python.3.11_qbz5n2kfra8p0\\localcache\\local-packages\\python311\\site-packages (from matplotlib) (1.3.2)\n",
      "Requirement already satisfied: cycler>=0.10 in c:\\users\\davuc\\appdata\\local\\packages\\pythonsoftwarefoundation.python.3.11_qbz5n2kfra8p0\\localcache\\local-packages\\python311\\site-packages (from matplotlib) (0.12.1)\n",
      "Requirement already satisfied: fonttools>=4.22.0 in c:\\users\\davuc\\appdata\\local\\packages\\pythonsoftwarefoundation.python.3.11_qbz5n2kfra8p0\\localcache\\local-packages\\python311\\site-packages (from matplotlib) (4.59.0)\n",
      "Requirement already satisfied: kiwisolver>=1.3.1 in c:\\users\\davuc\\appdata\\local\\packages\\pythonsoftwarefoundation.python.3.11_qbz5n2kfra8p0\\localcache\\local-packages\\python311\\site-packages (from matplotlib) (1.4.8)\n",
      "Requirement already satisfied: packaging>=20.0 in c:\\users\\davuc\\appdata\\local\\packages\\pythonsoftwarefoundation.python.3.11_qbz5n2kfra8p0\\localcache\\local-packages\\python311\\site-packages (from matplotlib) (25.0)\n",
      "Requirement already satisfied: pyparsing>=2.3.1 in c:\\users\\davuc\\appdata\\local\\packages\\pythonsoftwarefoundation.python.3.11_qbz5n2kfra8p0\\localcache\\local-packages\\python311\\site-packages (from matplotlib) (3.2.3)\n",
      "Requirement already satisfied: python-dateutil>=2.7 in c:\\users\\davuc\\appdata\\local\\packages\\pythonsoftwarefoundation.python.3.11_qbz5n2kfra8p0\\localcache\\local-packages\\python311\\site-packages (from matplotlib) (2.9.0.post0)\n",
      "Requirement already satisfied: scipy>=1.8.0 in c:\\users\\davuc\\appdata\\local\\packages\\pythonsoftwarefoundation.python.3.11_qbz5n2kfra8p0\\localcache\\local-packages\\python311\\site-packages (from scikit-learn) (1.16.0)\n",
      "Requirement already satisfied: joblib>=1.2.0 in c:\\users\\davuc\\appdata\\local\\packages\\pythonsoftwarefoundation.python.3.11_qbz5n2kfra8p0\\localcache\\local-packages\\python311\\site-packages (from scikit-learn) (1.5.1)\n",
      "Requirement already satisfied: threadpoolctl>=3.1.0 in c:\\users\\davuc\\appdata\\local\\packages\\pythonsoftwarefoundation.python.3.11_qbz5n2kfra8p0\\localcache\\local-packages\\python311\\site-packages (from scikit-learn) (3.6.0)\n",
      "Requirement already satisfied: pytz>=2020.1 in c:\\users\\davuc\\appdata\\local\\packages\\pythonsoftwarefoundation.python.3.11_qbz5n2kfra8p0\\localcache\\local-packages\\python311\\site-packages (from pandas) (2025.2)\n",
      "Requirement already satisfied: tzdata>=2022.7 in c:\\users\\davuc\\appdata\\local\\packages\\pythonsoftwarefoundation.python.3.11_qbz5n2kfra8p0\\localcache\\local-packages\\python311\\site-packages (from pandas) (2025.2)\n",
      "Requirement already satisfied: six>=1.5 in c:\\users\\davuc\\appdata\\local\\packages\\pythonsoftwarefoundation.python.3.11_qbz5n2kfra8p0\\localcache\\local-packages\\python311\\site-packages (from python-dateutil>=2.7->matplotlib) (1.17.0)\n",
      "Requirement already satisfied: mpmath<1.4,>=1.1.0 in c:\\users\\davuc\\appdata\\local\\packages\\pythonsoftwarefoundation.python.3.11_qbz5n2kfra8p0\\localcache\\local-packages\\python311\\site-packages (from sympy>=1.13.3->torch) (1.3.0)\n",
      "Requirement already satisfied: MarkupSafe>=2.0 in c:\\users\\davuc\\appdata\\local\\packages\\pythonsoftwarefoundation.python.3.11_qbz5n2kfra8p0\\localcache\\local-packages\\python311\\site-packages (from jinja2->torch) (3.0.2)\n"
     ]
    },
    {
     "name": "stderr",
     "output_type": "stream",
     "text": [
      "\n",
      "[notice] A new release of pip is available: 24.0 -> 25.2\n",
      "[notice] To update, run: C:\\Users\\davuc\\AppData\\Local\\Microsoft\\WindowsApps\\PythonSoftwareFoundation.Python.3.11_qbz5n2kfra8p0\\python.exe -m pip install --upgrade pip\n"
     ]
    }
   ],
   "source": [
    "! pip install torch torchvision matplotlib scikit-learn pandas numpy"
   ]
  },
  {
   "cell_type": "code",
   "execution_count": 82,
   "id": "4527fa36",
   "metadata": {},
   "outputs": [],
   "source": [
    "import os\n",
    "import numpy as np\n",
    "import pandas as pd\n",
    "import torch.nn as nn\n",
    "from tqdm import tqdm\n",
    "import torch.optim as optim\n",
    "import torch.nn.functional as F\n",
    "import matplotlib.pyplot as plt\n",
    "from IPython.display import clear_output\n",
    "from sklearn.model_selection import train_test_split\n",
    "from torch.utils.data import Dataset, DataLoader, TensorDataset\n"
   ]
  },
  {
   "cell_type": "markdown",
   "id": "491da006",
   "metadata": {},
   "source": [
    "## 1 **Pure CNN Solution**"
   ]
  },
  {
   "cell_type": "markdown",
   "id": "66b21a73",
   "metadata": {},
   "source": [
    "#### 1.1 **Load and Preprocess Dataset**"
   ]
  },
  {
   "cell_type": "markdown",
   "id": "b9809958",
   "metadata": {},
   "source": [
    "This class handles reading downloaded CSV datasets, `normalizing` and `reshaping` the image data, `splitting` into training, validation, and test sets, and preparing PyTorch `DataLoader` objects for use in model training class workflows. It also manages label remapping and provides access to data splits, tensors, and class mappings."
   ]
  },
  {
   "cell_type": "code",
   "execution_count": 83,
   "id": "6258a89a",
   "metadata": {},
   "outputs": [],
   "source": [
    "class DataModule:\n",
    "    def __init__(self, data_dir=\"./dataset\", dataset_dir = \"mnist-animals-dataset\", batch_size=64, test_size=0.2, random_state=42):\n",
    "        self.data_dir = data_dir\n",
    "        self.dataset_dir = dataset_dir\n",
    "        self.batch_size = batch_size\n",
    "        self.test_size = test_size\n",
    "        self.random_state = random_state\n",
    "        \n",
    "        self.class_map = None\n",
    "        # training data\n",
    "        self.x_train = None\n",
    "        self.y_train = None\n",
    "        self.x_test = None\n",
    "        self.y_test = None\n",
    "        \n",
    "\n",
    "        self._preprocess()\n",
    "\n",
    "    def _preprocess(self):\n",
    "        # Resize images to 28x28 if not already\n",
    "        if not os.path.exists(self.data_dir):\n",
    "            raise FileNotFoundError(f\"Data directory {self.data_dir} does not exist. Please check the path.\")\n",
    "        \n",
    "        # check if preprocessed data already exists\n",
    "        csv_target = f\"{self.dataset_dir}/mnist-animals.csv\"\n",
    "        if not os.path.exists(csv_target):\n",
    "            # create dataset directory if it does not exist\n",
    "            if not os.path.exists(self.dataset_dir):\n",
    "                os.makedirs(self.dataset_dir)\n",
    "            # write header to csv\n",
    "            with open(csv_target, 'w') as f:\n",
    "                f.write('class,' + ','.join([f'pixel_{i}' for i in range(28 * 28)]) + '\\n')\n",
    "                f.close()\n",
    "            # This loop assumes the images are categorized in subdirectories\n",
    "                # e.g., data_dir/cat, data_dir/dog, data_dir/bird\n",
    "            for subdir in os.listdir(self.data_dir):\n",
    "                subdir_path = os.path.join(self.data_dir, subdir)\n",
    "                for file in os.listdir(subdir_path):\n",
    "                    if file.endswith('.png') or file.endswith('.jpg'):\n",
    "                        file_path = os.path.join(subdir_path, file)\n",
    "                        \n",
    "                        # Here we resize the image to 28x28 and append it to csv\n",
    "                        image = plt.imread(file_path)\n",
    "                        if image.shape[0] != 28 or image.shape[1] != 28:\n",
    "                            resized_image = np.resize(image, (28, 28))\n",
    "                            # add image class to the resized image\n",
    "                            class_label = np.array([subdir])\n",
    "                            resized_image = np.append(class_label, resized_image.flatten())\n",
    "                            \n",
    "                            # write resized image to csv\n",
    "                            with open(csv_target, 'a') as f:\n",
    "                                f.write(','.join(map(str, resized_image)) + '\\n')\n",
    "                                f.close()\n",
    "            print(f\"Preprocessing complete. CSV file saved to {csv_target}\")\n",
    "        else:\n",
    "            print(f\"CSV files already exist in {self.data_dir}/{self.data_dir}. Skipping preprocessing step.\")                  \n",
    "        \n",
    "        # Now we can read the csv file and split it into train and test sets\n",
    "        data = pd.read_csv(csv_target)\n",
    "        self.class_map = {i: label for i, label in enumerate(data['class'].unique())}\n",
    "        X= data.drop(columns=['class']).values\n",
    "        y = data['class'].apply(lambda x: list(self.class_map.keys())[list(self.class_map.values()).index(x)]).values\n",
    "        self.x_train, self.x_test, self.y_train, self.y_test = train_test_split(X, y, test_size=self.test_size, random_state=self.random_state)\n",
    "        \n",
    "\n",
    "    def get_class_map(self):\n",
    "        return self.class_map\n",
    "    \n",
    "    def get_train_data(self):\n",
    "        return self.x_train, self.y_train, self.x_test, self.y_test, self.x_val, self.y_val\n",
    "            \n",
    "    "
   ]
  },
  {
   "cell_type": "code",
   "execution_count": 84,
   "id": "fd46a686",
   "metadata": {},
   "outputs": [
    {
     "name": "stdout",
     "output_type": "stream",
     "text": [
      "CSV files already exist in ./dataset/./dataset. Skipping preprocessing step.\n",
      "Train data shape: (120, 784), Train labels shape: (120,)\n",
      "Test data shape: (30, 784), Test labels shape: (30,)\n",
      "Class map: {0: 'bird', 1: 'cat', 2: 'dog'}\n"
     ]
    }
   ],
   "source": [
    "dataset = DataModule(data_dir=\"./dataset\", dataset_dir=\"mnist-animals\", batch_size=64, test_size=0.2, random_state=42)\n",
    "\n",
    "print(f\"Train data shape: {dataset.x_train.shape}, Train labels shape: {dataset.y_train.shape}\")\n",
    "print(f\"Test data shape: {dataset.x_test.shape}, Test labels shape: {dataset.y_test.shape}\")\n",
    "print(f\"Class map: {dataset.class_map}\")"
   ]
  }
 ],
 "metadata": {
  "kernelspec": {
   "display_name": "Python 3",
   "language": "python",
   "name": "python3"
  },
  "language_info": {
   "codemirror_mode": {
    "name": "ipython",
    "version": 3
   },
   "file_extension": ".py",
   "mimetype": "text/x-python",
   "name": "python",
   "nbconvert_exporter": "python",
   "pygments_lexer": "ipython3",
   "version": "3.11.9"
  }
 },
 "nbformat": 4,
 "nbformat_minor": 5
}
